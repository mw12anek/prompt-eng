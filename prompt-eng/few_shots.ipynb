{
 "cells": [
  {
   "cell_type": "markdown",
   "metadata": {},
   "source": [
    "\n",
    "\n"
   ]
  },
  {
   "cell_type": "markdown",
   "metadata": {},
   "source": [
    "# Few-Shots Prompting\n",
    "\n",
    "Few-shot prompting can be used as a technique to enable in-context learning where we provide demonstrations in the prompt to steer the model to better performance. The demonstrations serve as conditioning for subsequent examples where we would like the model to generate a response.\n",
    "\n",
    "## References:\n",
    "* [Touvron et al. 2023](https://arxiv.org/pdf/2302.13971.pdf): present few shot properties  when models were scaled to a sufficient size\n",
    "* [Kaplan et al., 2020](https://arxiv.org/abs/2001.08361)\n",
    "* [Brown et al. 2020](https://arxiv.org/abs/2005.14165)\n"
   ]
  },
  {
   "cell_type": "markdown",
   "metadata": {},
   "source": [
    "## Running this code on MyBind.org\n",
    "\n",
    "Note: remember that you will need to **adjust CONFIG** with **proper URL and API_KEY**!\n",
    "\n",
    "[![Binder](https://mybinder.org/badge_logo.svg)](https://mybinder.org/v2/gh/GenILab-FAU/prompt-eng/HEAD?urlpath=%2Fdoc%2Ftree%2Fprompt-eng%2Ffew_shots.ipynb)\n",
    "\n"
   ]
  },
  {
   "cell_type": "code",
   "execution_count": 5,
   "metadata": {},
   "outputs": [
    {
     "name": "stdout",
     "output_type": "stream",
     "text": [
      "{'model': 'llama3.2:latest', 'prompt': \"You are a software analyst. If input is 'Allow users to save items for later' you respond 'Implement a wishlist feature with database support.' \\nIf input is 'Add customer reviews' you respond 'Develop a review system with star ratings and comments.' \\nIf input is 'Enable secure checkout' you respond 'Integrate secure payment gateways like Stripe and PayPal.'\\nWe need a feature for customers to view their order history.\", 'stream': False, 'options': {'temperature': 0.7, 'num_ctx': 150, 'num_predict': 150}}\n",
      "Generated Requirement: \"Implement an Order History feature, including the following functionalities:\n",
      "\n",
      "1. Store customer orders in a database with date, order ID, product name, quantity, and total cost.\n",
      "2. Display a list of previous orders on the customer dashboard, sorted by date (newest first or oldest first).\n",
      "3. Allow customers to view details of individual orders, including products purchased and prices.\n",
      "4. Provide an option for customers to view their order history in a table format with pagination.\n",
      "\n",
      "Additionally, consider implementing the following security measures:\n",
      "\n",
      "1. Use HTTPS encryption to protect sensitive customer data.\n",
      "2. Implement user authentication and authorization to ensure only authorized users can access their account information.\n",
      "\n",
      "By following these guidelines, you can create a secure and user-friendly e-commerce platform for\n",
      "Time taken: 6.345s\n"
     ]
    }
   ],
   "source": [
    "# Few-Shot Prompting for Requirement Analysis in E-commerce\n",
    "\n",
    "from _pipeline import create_payload, model_req\n",
    "\n",
    "# Adjust the inbounding Prompt for E-commerce Requirement Analysis\n",
    "MESSAGE = \"We need a feature for customers to view their order history.\"\n",
    "\n",
    "# Provide few-shot examples for requirement analysis\n",
    "FEW_SHOT = \"You are a software analyst. If input is 'Allow users to save items for later' you respond 'Implement a wishlist feature with database support.' \\n\" \\\n",
    "           \"If input is 'Add customer reviews' you respond 'Develop a review system with star ratings and comments.' \\n\" \\\n",
    "           \"If input is 'Enable secure checkout' you respond 'Integrate secure payment gateways like Stripe and PayPal.'\"\n",
    "\n",
    "PROMPT = FEW_SHOT + '\\n' + MESSAGE\n",
    "\n",
    "# Configure the Model request\n",
    "payload = create_payload(\n",
    "    target=\"ollama\",\n",
    "    model=\"llama3.2:latest\",\n",
    "    prompt=PROMPT,\n",
    "    temperature=0.7,\n",
    "    num_ctx=150,\n",
    "    num_predict=150\n",
    ")\n",
    "\n",
    "# Send to the model\n",
    "time, response = model_req(payload=payload)\n",
    "print(\"Generated Requirement:\", response)\n",
    "if time:\n",
    "    print(f'Time taken: {time}s')\n"
   ]
  },
  {
   "cell_type": "markdown",
   "metadata": {},
   "source": [
    "## How to improve it?\n",
    "\n",
    "Following the findings from [Min et al. (2022)](https://arxiv.org/abs/2202.12837), here are a few more tips about demonstrations/exemplars when doing few-shot:\n",
    "\n",
    "* \"the label space and the distribution of the input text specified by the demonstrations are both important (regardless of whether the labels are correct for individual inputs)\"\n",
    "* the format you use also plays a key role in performance, even if you just use random labels, this is much better than no labels at all.\n",
    "* additional results show that selecting random labels from a true distribution of labels (instead of a uniform distribution) also helps."
   ]
  }
 ],
 "metadata": {
  "kernelspec": {
   "display_name": "Python 3 (ipykernel)",
   "language": "python",
   "name": "python3"
  },
  "language_info": {
   "codemirror_mode": {
    "name": "ipython",
    "version": 3
   },
   "file_extension": ".py",
   "mimetype": "text/x-python",
   "name": "python",
   "nbconvert_exporter": "python",
   "pygments_lexer": "ipython3",
   "version": "3.12.4"
  }
 },
 "nbformat": 4,
 "nbformat_minor": 4
}
